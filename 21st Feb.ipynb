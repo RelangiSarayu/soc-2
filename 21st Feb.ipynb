{
 "cells": [
  {
   "cell_type": "code",
   "execution_count": 1,
   "id": "9bbeaee5",
   "metadata": {},
   "outputs": [
    {
     "name": "stdout",
     "output_type": "stream",
     "text": [
      "Defaulting to user installation because normal site-packages is not writeableNote: you may need to restart the kernel to use updated packages.\n",
      "\n",
      "Requirement already satisfied: selenium in c:\\users\\saray\\appdata\\roaming\\python\\python311\\site-packages (4.18.1)\n",
      "Requirement already satisfied: urllib3[socks]<3,>=1.26 in c:\\programdata\\anaconda3\\lib\\site-packages (from selenium) (1.26.16)\n",
      "Requirement already satisfied: trio~=0.17 in c:\\users\\saray\\appdata\\roaming\\python\\python311\\site-packages (from selenium) (0.24.0)\n",
      "Requirement already satisfied: trio-websocket~=0.9 in c:\\users\\saray\\appdata\\roaming\\python\\python311\\site-packages (from selenium) (0.11.1)\n",
      "Requirement already satisfied: certifi>=2021.10.8 in c:\\programdata\\anaconda3\\lib\\site-packages (from selenium) (2023.7.22)\n",
      "Requirement already satisfied: typing_extensions>=4.9.0 in c:\\users\\saray\\appdata\\roaming\\python\\python311\\site-packages (from selenium) (4.9.0)\n",
      "Requirement already satisfied: attrs>=20.1.0 in c:\\programdata\\anaconda3\\lib\\site-packages (from trio~=0.17->selenium) (22.1.0)\n",
      "Requirement already satisfied: sortedcontainers in c:\\programdata\\anaconda3\\lib\\site-packages (from trio~=0.17->selenium) (2.4.0)\n",
      "Requirement already satisfied: idna in c:\\programdata\\anaconda3\\lib\\site-packages (from trio~=0.17->selenium) (3.4)\n",
      "Requirement already satisfied: outcome in c:\\users\\saray\\appdata\\roaming\\python\\python311\\site-packages (from trio~=0.17->selenium) (1.3.0.post0)\n",
      "Requirement already satisfied: sniffio>=1.3.0 in c:\\users\\saray\\appdata\\roaming\\python\\python311\\site-packages (from trio~=0.17->selenium) (1.3.0)\n",
      "Requirement already satisfied: cffi>=1.14 in c:\\programdata\\anaconda3\\lib\\site-packages (from trio~=0.17->selenium) (1.15.1)\n",
      "Requirement already satisfied: wsproto>=0.14 in c:\\users\\saray\\appdata\\roaming\\python\\python311\\site-packages (from trio-websocket~=0.9->selenium) (1.2.0)\n",
      "Requirement already satisfied: PySocks!=1.5.7,<2.0,>=1.5.6 in c:\\programdata\\anaconda3\\lib\\site-packages (from urllib3[socks]<3,>=1.26->selenium) (1.7.1)\n",
      "Requirement already satisfied: pycparser in c:\\programdata\\anaconda3\\lib\\site-packages (from cffi>=1.14->trio~=0.17->selenium) (2.21)\n",
      "Requirement already satisfied: h11<1,>=0.9.0 in c:\\users\\saray\\appdata\\roaming\\python\\python311\\site-packages (from wsproto>=0.14->trio-websocket~=0.9->selenium) (0.14.0)\n"
     ]
    }
   ],
   "source": [
    "pip install selenium"
   ]
  },
  {
   "cell_type": "code",
   "execution_count": 2,
   "id": "1c5faef4",
   "metadata": {},
   "outputs": [
    {
     "name": "stdout",
     "output_type": "stream",
     "text": [
      "Defaulting to user installation because normal site-packages is not writeable\n",
      "Requirement already satisfied: urllib3==1.26.16 in c:\\programdata\\anaconda3\\lib\\site-packages (1.26.16)\n",
      "Note: you may need to restart the kernel to use updated packages.\n"
     ]
    }
   ],
   "source": [
    "pip install --upgrade urllib3==1.26.16"
   ]
  },
  {
   "cell_type": "code",
   "execution_count": 3,
   "id": "10d09dfb",
   "metadata": {},
   "outputs": [],
   "source": [
    "from selenium import webdriver\n",
    "from selenium.webdriver.chrome.service import Service\n",
    "from selenium.webdriver.common.by import By\n",
    "s = Service(r\"C:\\Users\\saray\\OneDrive\\Desktop\\chromedriver-win64\\chromedriver.exe\")\n",
    "driver=webdriver.Chrome(service=s)\n",
    "driver.get(\"https://stackoverflow.com/questions/77030802/attributeerror-str-object-has-no-attribute-capabilities\")"
   ]
  },
  {
   "cell_type": "code",
   "execution_count": 4,
   "id": "e5beb541",
   "metadata": {},
   "outputs": [],
   "source": [
    "#To check the mail in spam or ham mail\n",
    "import numpy as np\n",
    "import pandas as pd\n",
    "import matplotlib.pyplot as plt\n",
    "from sklearn.model_selection import train_test_split\n",
    "from sklearn.linear_model import LogisticRegression\n",
    "from sklearn.metrics import accuracy_score"
   ]
  },
  {
   "cell_type": "code",
   "execution_count": 5,
   "id": "6c494cdf",
   "metadata": {},
   "outputs": [],
   "source": [
    "raw_mail_data=pd.read_csv(\"D:\\Excel Sheets\\mail_data.csv\")"
   ]
  },
  {
   "cell_type": "code",
   "execution_count": 6,
   "id": "f6dc32bd",
   "metadata": {},
   "outputs": [
    {
     "data": {
      "text/html": [
       "<div>\n",
       "<style scoped>\n",
       "    .dataframe tbody tr th:only-of-type {\n",
       "        vertical-align: middle;\n",
       "    }\n",
       "\n",
       "    .dataframe tbody tr th {\n",
       "        vertical-align: top;\n",
       "    }\n",
       "\n",
       "    .dataframe thead th {\n",
       "        text-align: right;\n",
       "    }\n",
       "</style>\n",
       "<table border=\"1\" class=\"dataframe\">\n",
       "  <thead>\n",
       "    <tr style=\"text-align: right;\">\n",
       "      <th></th>\n",
       "      <th>Category</th>\n",
       "      <th>Message</th>\n",
       "    </tr>\n",
       "  </thead>\n",
       "  <tbody>\n",
       "    <tr>\n",
       "      <th>0</th>\n",
       "      <td>ham</td>\n",
       "      <td>Go until jurong point, crazy.. Available only ...</td>\n",
       "    </tr>\n",
       "    <tr>\n",
       "      <th>1</th>\n",
       "      <td>ham</td>\n",
       "      <td>Ok lar... Joking wif u oni...</td>\n",
       "    </tr>\n",
       "    <tr>\n",
       "      <th>2</th>\n",
       "      <td>spam</td>\n",
       "      <td>Free entry in 2 a wkly comp to win FA Cup fina...</td>\n",
       "    </tr>\n",
       "    <tr>\n",
       "      <th>3</th>\n",
       "      <td>ham</td>\n",
       "      <td>U dun say so early hor... U c already then say...</td>\n",
       "    </tr>\n",
       "    <tr>\n",
       "      <th>4</th>\n",
       "      <td>ham</td>\n",
       "      <td>Nah I don't think he goes to usf, he lives aro...</td>\n",
       "    </tr>\n",
       "  </tbody>\n",
       "</table>\n",
       "</div>"
      ],
      "text/plain": [
       "  Category                                            Message\n",
       "0      ham  Go until jurong point, crazy.. Available only ...\n",
       "1      ham                      Ok lar... Joking wif u oni...\n",
       "2     spam  Free entry in 2 a wkly comp to win FA Cup fina...\n",
       "3      ham  U dun say so early hor... U c already then say...\n",
       "4      ham  Nah I don't think he goes to usf, he lives aro..."
      ]
     },
     "execution_count": 6,
     "metadata": {},
     "output_type": "execute_result"
    }
   ],
   "source": [
    "raw_mail_data.head()\n"
   ]
  },
  {
   "cell_type": "code",
   "execution_count": 7,
   "id": "86f0dbf9",
   "metadata": {},
   "outputs": [
    {
     "data": {
      "text/plain": [
       "Category    0\n",
       "Message     0\n",
       "dtype: int64"
      ]
     },
     "execution_count": 7,
     "metadata": {},
     "output_type": "execute_result"
    }
   ],
   "source": [
    "#To check and Nan field in column\n",
    "raw_mail_data.isna().sum()"
   ]
  },
  {
   "cell_type": "code",
   "execution_count": 8,
   "id": "6c9fd394",
   "metadata": {},
   "outputs": [
    {
     "data": {
      "text/plain": [
       "0       ham\n",
       "1       ham\n",
       "2         0\n",
       "3       ham\n",
       "4       ham\n",
       "       ... \n",
       "5567      0\n",
       "5568    ham\n",
       "5569    ham\n",
       "5570    ham\n",
       "5571    ham\n",
       "Name: Category, Length: 5572, dtype: object"
      ]
     },
     "execution_count": 8,
     "metadata": {},
     "output_type": "execute_result"
    }
   ],
   "source": [
    "#To convert catagory field to numerical field 'spam'= 0 \n",
    "raw_mail_data.loc[raw_mail_data['Category']=='spam','Category']=0\n",
    "raw_mail_data['Category']"
   ]
  },
  {
   "cell_type": "code",
   "execution_count": 9,
   "id": "ec0def42",
   "metadata": {},
   "outputs": [
    {
     "data": {
      "text/plain": [
       "0       1\n",
       "1       1\n",
       "2       0\n",
       "3       1\n",
       "4       1\n",
       "       ..\n",
       "5567    0\n",
       "5568    1\n",
       "5569    1\n",
       "5570    1\n",
       "5571    1\n",
       "Name: Category, Length: 5572, dtype: object"
      ]
     },
     "execution_count": 9,
     "metadata": {},
     "output_type": "execute_result"
    }
   ],
   "source": [
    "#To convert catagory field to numerical field 'ham'= 1\n",
    "raw_mail_data.loc[raw_mail_data['Category']=='ham','Category']=1\n",
    "raw_mail_data['Category']"
   ]
  },
  {
   "cell_type": "code",
   "execution_count": 10,
   "id": "fdc79718",
   "metadata": {},
   "outputs": [],
   "source": [
    "Y=raw_mail_data['Category']\n",
    "X=raw_mail_data['Message']"
   ]
  },
  {
   "cell_type": "code",
   "execution_count": 11,
   "id": "c3ecae8c",
   "metadata": {},
   "outputs": [
    {
     "data": {
      "text/plain": [
       "0       Go until jurong point, crazy.. Available only ...\n",
       "1                           Ok lar... Joking wif u oni...\n",
       "2       Free entry in 2 a wkly comp to win FA Cup fina...\n",
       "3       U dun say so early hor... U c already then say...\n",
       "4       Nah I don't think he goes to usf, he lives aro...\n",
       "                              ...                        \n",
       "5567    This is the 2nd time we have tried 2 contact u...\n",
       "5568                 Will ü b going to esplanade fr home?\n",
       "5569    Pity, * was in mood for that. So...any other s...\n",
       "5570    The guy did some bitching but I acted like i'd...\n",
       "5571                           Rofl. Its true to its name\n",
       "Name: Message, Length: 5572, dtype: object"
      ]
     },
     "execution_count": 11,
     "metadata": {},
     "output_type": "execute_result"
    }
   ],
   "source": [
    "X"
   ]
  },
  {
   "cell_type": "code",
   "execution_count": 31,
   "id": "35e69907",
   "metadata": {},
   "outputs": [],
   "source": [
    "#Convert to train and test split\n",
    "from sklearn.model_selection import train_test_split\n",
    "x_train,x_test,y_train,y_test=train_test_split(X,Y,test_size=0.2)"
   ]
  },
  {
   "cell_type": "code",
   "execution_count": 32,
   "id": "f126b459",
   "metadata": {},
   "outputs": [
    {
     "data": {
      "text/plain": [
       "(4457,)"
      ]
     },
     "execution_count": 32,
     "metadata": {},
     "output_type": "execute_result"
    }
   ],
   "source": [
    "x_train.shape"
   ]
  },
  {
   "cell_type": "code",
   "execution_count": 33,
   "id": "feae5b51",
   "metadata": {},
   "outputs": [
    {
     "data": {
      "text/plain": [
       "(1115,)"
      ]
     },
     "execution_count": 33,
     "metadata": {},
     "output_type": "execute_result"
    }
   ],
   "source": [
    "x_test.shape"
   ]
  },
  {
   "cell_type": "code",
   "execution_count": 34,
   "id": "d39202eb",
   "metadata": {},
   "outputs": [
    {
     "data": {
      "text/plain": [
       "(4457,)"
      ]
     },
     "execution_count": 34,
     "metadata": {},
     "output_type": "execute_result"
    }
   ],
   "source": [
    "y_train.shape"
   ]
  },
  {
   "cell_type": "code",
   "execution_count": 35,
   "id": "f46d551a",
   "metadata": {},
   "outputs": [
    {
     "data": {
      "text/plain": [
       "(1115,)"
      ]
     },
     "execution_count": 35,
     "metadata": {},
     "output_type": "execute_result"
    }
   ],
   "source": [
    "x_test.shape"
   ]
  },
  {
   "cell_type": "code",
   "execution_count": 36,
   "id": "976b633f",
   "metadata": {},
   "outputs": [],
   "source": [
    "from sklearn.feature_extraction.text import TfidfVectorizer"
   ]
  },
  {
   "cell_type": "code",
   "execution_count": 37,
   "id": "5ebae359",
   "metadata": {},
   "outputs": [],
   "source": [
    "#Team Frequency Inverse Document Frequency-->It is a numerical representation\n",
    "#of text document to capture the important words in a collection of document"
   ]
  },
  {
   "cell_type": "code",
   "execution_count": 39,
   "id": "1dfe1377",
   "metadata": {},
   "outputs": [
    {
     "name": "stdout",
     "output_type": "stream",
     "text": [
      "  (0, 2974)\t0.5836766630621584\n",
      "  (0, 4833)\t0.5013226217297759\n",
      "  (0, 6308)\t0.6387465709799215\n",
      "  (1, 4782)\t0.17932388960049842\n",
      "  (1, 893)\t0.144412360140751\n",
      "  (1, 5014)\t0.1459223450709917\n",
      "  (1, 6439)\t0.2287755596125758\n",
      "  (1, 7374)\t0.23053116115440317\n",
      "  (1, 6728)\t0.3133843756959873\n",
      "  (1, 1264)\t0.2683065892922138\n",
      "  (1, 6918)\t0.15798825385259793\n",
      "  (1, 2155)\t0.2884430728817873\n",
      "  (1, 6796)\t0.09734834525005115\n",
      "  (1, 4896)\t0.11996737821447338\n",
      "  (1, 830)\t0.2804137667828031\n",
      "  (1, 3735)\t0.10832728169119515\n",
      "  (1, 7492)\t0.3622023479911562\n",
      "  (1, 1776)\t0.2804137667828031\n",
      "  (1, 2933)\t0.11477937514888735\n",
      "  (1, 6885)\t0.15310496048474176\n",
      "  (1, 4143)\t0.22250185505541897\n",
      "  (1, 6257)\t0.1270310616444828\n",
      "  (1, 6676)\t0.24336528647801384\n",
      "  (1, 3746)\t0.11580334203848677\n",
      "  (1, 1902)\t0.15146910179512715\n",
      "  :\t:\n",
      "  (4453, 3753)\t0.19975251014579962\n",
      "  (4453, 7545)\t0.17547637133873595\n",
      "  (4454, 1009)\t0.4474670126563076\n",
      "  (4454, 6681)\t0.3555615455783717\n",
      "  (4454, 4735)\t0.2752510024342131\n",
      "  (4454, 5599)\t0.3149286912395684\n",
      "  (4454, 6276)\t0.33672303333123527\n",
      "  (4454, 7608)\t0.3307859188557334\n",
      "  (4454, 3594)\t0.23199152462977574\n",
      "  (4454, 3863)\t0.22849890468039435\n",
      "  (4454, 1595)\t0.2054446372516118\n",
      "  (4454, 4403)\t0.19100028677700173\n",
      "  (4454, 7705)\t0.13749588701439708\n",
      "  (4454, 6918)\t0.2682886417350269\n",
      "  (4455, 2774)\t0.6931785967546811\n",
      "  (4455, 4957)\t0.5680596961876765\n",
      "  (4455, 7384)\t0.37693685496288726\n",
      "  (4455, 6796)\t0.2339449121888808\n",
      "  (4456, 6374)\t0.6347897587528887\n",
      "  (4456, 1267)\t0.46696271902269143\n",
      "  (4456, 1065)\t0.3299753579395426\n",
      "  (4456, 7448)\t0.3511291540781197\n",
      "  (4456, 3634)\t0.21424405775809102\n",
      "  (4456, 7515)\t0.2720537651702225\n",
      "  (4456, 7705)\t0.16400790867056458\n"
     ]
    }
   ],
   "source": [
    "feature_extraction=TfidfVectorizer()\n",
    "x_train_feature=feature_extraction.fit_transform(x_train)\n",
    "print(x_train_feature)"
   ]
  },
  {
   "cell_type": "code",
   "execution_count": 40,
   "id": "6b86b3fd",
   "metadata": {},
   "outputs": [
    {
     "name": "stdout",
     "output_type": "stream",
     "text": [
      "  (0, 7515)\t0.4036646373366065\n",
      "  (0, 6002)\t0.6027881290707056\n",
      "  (0, 3746)\t0.34804838969840585\n",
      "  (0, 840)\t0.5937707052757747\n",
      "  (1, 7059)\t0.6767963648883946\n",
      "  (1, 5590)\t0.5155833667571726\n",
      "  (1, 4935)\t0.2979871886143213\n",
      "  (1, 4782)\t0.4328095514414241\n",
      "  (2, 6308)\t0.4278043068803866\n",
      "  (2, 4423)\t0.5604634422619977\n",
      "  (2, 4152)\t0.3744203012025851\n",
      "  (2, 4019)\t0.4366554184090044\n",
      "  (2, 3634)\t0.27297386191348083\n",
      "  (2, 1595)\t0.3122354227756468\n",
      "  (3, 7497)\t0.7009293328675883\n",
      "  (3, 6835)\t0.32930096933113884\n",
      "  (3, 6734)\t0.3992288851349954\n",
      "  (3, 5261)\t0.41383347291417316\n",
      "  (3, 4403)\t0.2638505180836929\n",
      "  (4, 7705)\t0.1562706069890774\n",
      "  (4, 7515)\t0.2592192496168621\n",
      "  (4, 7477)\t0.28000102283170747\n",
      "  (4, 6796)\t0.18788566804262138\n",
      "  (4, 2852)\t0.4022097869848566\n",
      "  (4, 2035)\t0.4864515913496528\n",
      "  :\t:\n",
      "  (1113, 4403)\t0.12052386857966728\n",
      "  (1113, 3349)\t0.2571045100876371\n",
      "  (1113, 3285)\t0.19406079098097517\n",
      "  (1113, 2368)\t0.3201764219063256\n",
      "  (1113, 2025)\t0.29345031712503994\n",
      "  (1113, 1400)\t0.30908408621243644\n",
      "  (1114, 7705)\t0.10567846179746353\n",
      "  (1114, 7515)\t0.1752977869326215\n",
      "  (1114, 7370)\t0.2056367495151295\n",
      "  (1114, 7205)\t0.26952318565968625\n",
      "  (1114, 6918)\t0.2062049388671508\n",
      "  (1114, 6796)\t0.25411648134086895\n",
      "  (1114, 6792)\t0.1583528605019219\n",
      "  (1114, 6196)\t0.26280255340249836\n",
      "  (1114, 5171)\t0.26952318565968625\n",
      "  (1114, 4584)\t0.23697000720081418\n",
      "  (1114, 4049)\t0.35019150154209333\n",
      "  (1114, 3949)\t0.19540480013230557\n",
      "  (1114, 3735)\t0.14138785608465793\n",
      "  (1114, 3594)\t0.17830720616650864\n",
      "  (1114, 3337)\t0.23130479709284665\n",
      "  (1114, 3180)\t0.19822094282802233\n",
      "  (1114, 1400)\t0.37647347039948326\n",
      "  (1114, 943)\t0.13797490383884845\n",
      "  (1114, 736)\t0.21673858516247818\n"
     ]
    }
   ],
   "source": [
    "x_test_feature=feature_extraction.transform(x_test)\n",
    "print(x_test_feature)"
   ]
  },
  {
   "cell_type": "code",
   "execution_count": 41,
   "id": "c103dc51",
   "metadata": {},
   "outputs": [],
   "source": [
    "y_train=y_train.astype('int')\n",
    "y_test=y_test.astype('int')"
   ]
  },
  {
   "cell_type": "code",
   "execution_count": 42,
   "id": "c4d6a2a7",
   "metadata": {},
   "outputs": [
    {
     "data": {
      "text/plain": [
       "dtype('int32')"
      ]
     },
     "execution_count": 42,
     "metadata": {},
     "output_type": "execute_result"
    }
   ],
   "source": [
    "y_train.dtype"
   ]
  },
  {
   "cell_type": "code",
   "execution_count": 43,
   "id": "290dd3cf",
   "metadata": {},
   "outputs": [],
   "source": [
    "#Create instance for Logostic regression\n",
    "model=LogisticRegression()"
   ]
  },
  {
   "cell_type": "code",
   "execution_count": 44,
   "id": "56f3c1ea",
   "metadata": {},
   "outputs": [
    {
     "data": {
      "text/html": [
       "<style>#sk-container-id-3 {color: black;}#sk-container-id-3 pre{padding: 0;}#sk-container-id-3 div.sk-toggleable {background-color: white;}#sk-container-id-3 label.sk-toggleable__label {cursor: pointer;display: block;width: 100%;margin-bottom: 0;padding: 0.3em;box-sizing: border-box;text-align: center;}#sk-container-id-3 label.sk-toggleable__label-arrow:before {content: \"▸\";float: left;margin-right: 0.25em;color: #696969;}#sk-container-id-3 label.sk-toggleable__label-arrow:hover:before {color: black;}#sk-container-id-3 div.sk-estimator:hover label.sk-toggleable__label-arrow:before {color: black;}#sk-container-id-3 div.sk-toggleable__content {max-height: 0;max-width: 0;overflow: hidden;text-align: left;background-color: #f0f8ff;}#sk-container-id-3 div.sk-toggleable__content pre {margin: 0.2em;color: black;border-radius: 0.25em;background-color: #f0f8ff;}#sk-container-id-3 input.sk-toggleable__control:checked~div.sk-toggleable__content {max-height: 200px;max-width: 100%;overflow: auto;}#sk-container-id-3 input.sk-toggleable__control:checked~label.sk-toggleable__label-arrow:before {content: \"▾\";}#sk-container-id-3 div.sk-estimator input.sk-toggleable__control:checked~label.sk-toggleable__label {background-color: #d4ebff;}#sk-container-id-3 div.sk-label input.sk-toggleable__control:checked~label.sk-toggleable__label {background-color: #d4ebff;}#sk-container-id-3 input.sk-hidden--visually {border: 0;clip: rect(1px 1px 1px 1px);clip: rect(1px, 1px, 1px, 1px);height: 1px;margin: -1px;overflow: hidden;padding: 0;position: absolute;width: 1px;}#sk-container-id-3 div.sk-estimator {font-family: monospace;background-color: #f0f8ff;border: 1px dotted black;border-radius: 0.25em;box-sizing: border-box;margin-bottom: 0.5em;}#sk-container-id-3 div.sk-estimator:hover {background-color: #d4ebff;}#sk-container-id-3 div.sk-parallel-item::after {content: \"\";width: 100%;border-bottom: 1px solid gray;flex-grow: 1;}#sk-container-id-3 div.sk-label:hover label.sk-toggleable__label {background-color: #d4ebff;}#sk-container-id-3 div.sk-serial::before {content: \"\";position: absolute;border-left: 1px solid gray;box-sizing: border-box;top: 0;bottom: 0;left: 50%;z-index: 0;}#sk-container-id-3 div.sk-serial {display: flex;flex-direction: column;align-items: center;background-color: white;padding-right: 0.2em;padding-left: 0.2em;position: relative;}#sk-container-id-3 div.sk-item {position: relative;z-index: 1;}#sk-container-id-3 div.sk-parallel {display: flex;align-items: stretch;justify-content: center;background-color: white;position: relative;}#sk-container-id-3 div.sk-item::before, #sk-container-id-3 div.sk-parallel-item::before {content: \"\";position: absolute;border-left: 1px solid gray;box-sizing: border-box;top: 0;bottom: 0;left: 50%;z-index: -1;}#sk-container-id-3 div.sk-parallel-item {display: flex;flex-direction: column;z-index: 1;position: relative;background-color: white;}#sk-container-id-3 div.sk-parallel-item:first-child::after {align-self: flex-end;width: 50%;}#sk-container-id-3 div.sk-parallel-item:last-child::after {align-self: flex-start;width: 50%;}#sk-container-id-3 div.sk-parallel-item:only-child::after {width: 0;}#sk-container-id-3 div.sk-dashed-wrapped {border: 1px dashed gray;margin: 0 0.4em 0.5em 0.4em;box-sizing: border-box;padding-bottom: 0.4em;background-color: white;}#sk-container-id-3 div.sk-label label {font-family: monospace;font-weight: bold;display: inline-block;line-height: 1.2em;}#sk-container-id-3 div.sk-label-container {text-align: center;}#sk-container-id-3 div.sk-container {/* jupyter's `normalize.less` sets `[hidden] { display: none; }` but bootstrap.min.css set `[hidden] { display: none !important; }` so we also need the `!important` here to be able to override the default hidden behavior on the sphinx rendered scikit-learn.org. See: https://github.com/scikit-learn/scikit-learn/issues/21755 */display: inline-block !important;position: relative;}#sk-container-id-3 div.sk-text-repr-fallback {display: none;}</style><div id=\"sk-container-id-3\" class=\"sk-top-container\"><div class=\"sk-text-repr-fallback\"><pre>LogisticRegression()</pre><b>In a Jupyter environment, please rerun this cell to show the HTML representation or trust the notebook. <br />On GitHub, the HTML representation is unable to render, please try loading this page with nbviewer.org.</b></div><div class=\"sk-container\" hidden><div class=\"sk-item\"><div class=\"sk-estimator sk-toggleable\"><input class=\"sk-toggleable__control sk-hidden--visually\" id=\"sk-estimator-id-3\" type=\"checkbox\" checked><label for=\"sk-estimator-id-3\" class=\"sk-toggleable__label sk-toggleable__label-arrow\">LogisticRegression</label><div class=\"sk-toggleable__content\"><pre>LogisticRegression()</pre></div></div></div></div></div>"
      ],
      "text/plain": [
       "LogisticRegression()"
      ]
     },
     "execution_count": 44,
     "metadata": {},
     "output_type": "execute_result"
    }
   ],
   "source": [
    "model"
   ]
  },
  {
   "cell_type": "code",
   "execution_count": 45,
   "id": "c8a39c4a",
   "metadata": {},
   "outputs": [
    {
     "data": {
      "text/html": [
       "<style>#sk-container-id-4 {color: black;}#sk-container-id-4 pre{padding: 0;}#sk-container-id-4 div.sk-toggleable {background-color: white;}#sk-container-id-4 label.sk-toggleable__label {cursor: pointer;display: block;width: 100%;margin-bottom: 0;padding: 0.3em;box-sizing: border-box;text-align: center;}#sk-container-id-4 label.sk-toggleable__label-arrow:before {content: \"▸\";float: left;margin-right: 0.25em;color: #696969;}#sk-container-id-4 label.sk-toggleable__label-arrow:hover:before {color: black;}#sk-container-id-4 div.sk-estimator:hover label.sk-toggleable__label-arrow:before {color: black;}#sk-container-id-4 div.sk-toggleable__content {max-height: 0;max-width: 0;overflow: hidden;text-align: left;background-color: #f0f8ff;}#sk-container-id-4 div.sk-toggleable__content pre {margin: 0.2em;color: black;border-radius: 0.25em;background-color: #f0f8ff;}#sk-container-id-4 input.sk-toggleable__control:checked~div.sk-toggleable__content {max-height: 200px;max-width: 100%;overflow: auto;}#sk-container-id-4 input.sk-toggleable__control:checked~label.sk-toggleable__label-arrow:before {content: \"▾\";}#sk-container-id-4 div.sk-estimator input.sk-toggleable__control:checked~label.sk-toggleable__label {background-color: #d4ebff;}#sk-container-id-4 div.sk-label input.sk-toggleable__control:checked~label.sk-toggleable__label {background-color: #d4ebff;}#sk-container-id-4 input.sk-hidden--visually {border: 0;clip: rect(1px 1px 1px 1px);clip: rect(1px, 1px, 1px, 1px);height: 1px;margin: -1px;overflow: hidden;padding: 0;position: absolute;width: 1px;}#sk-container-id-4 div.sk-estimator {font-family: monospace;background-color: #f0f8ff;border: 1px dotted black;border-radius: 0.25em;box-sizing: border-box;margin-bottom: 0.5em;}#sk-container-id-4 div.sk-estimator:hover {background-color: #d4ebff;}#sk-container-id-4 div.sk-parallel-item::after {content: \"\";width: 100%;border-bottom: 1px solid gray;flex-grow: 1;}#sk-container-id-4 div.sk-label:hover label.sk-toggleable__label {background-color: #d4ebff;}#sk-container-id-4 div.sk-serial::before {content: \"\";position: absolute;border-left: 1px solid gray;box-sizing: border-box;top: 0;bottom: 0;left: 50%;z-index: 0;}#sk-container-id-4 div.sk-serial {display: flex;flex-direction: column;align-items: center;background-color: white;padding-right: 0.2em;padding-left: 0.2em;position: relative;}#sk-container-id-4 div.sk-item {position: relative;z-index: 1;}#sk-container-id-4 div.sk-parallel {display: flex;align-items: stretch;justify-content: center;background-color: white;position: relative;}#sk-container-id-4 div.sk-item::before, #sk-container-id-4 div.sk-parallel-item::before {content: \"\";position: absolute;border-left: 1px solid gray;box-sizing: border-box;top: 0;bottom: 0;left: 50%;z-index: -1;}#sk-container-id-4 div.sk-parallel-item {display: flex;flex-direction: column;z-index: 1;position: relative;background-color: white;}#sk-container-id-4 div.sk-parallel-item:first-child::after {align-self: flex-end;width: 50%;}#sk-container-id-4 div.sk-parallel-item:last-child::after {align-self: flex-start;width: 50%;}#sk-container-id-4 div.sk-parallel-item:only-child::after {width: 0;}#sk-container-id-4 div.sk-dashed-wrapped {border: 1px dashed gray;margin: 0 0.4em 0.5em 0.4em;box-sizing: border-box;padding-bottom: 0.4em;background-color: white;}#sk-container-id-4 div.sk-label label {font-family: monospace;font-weight: bold;display: inline-block;line-height: 1.2em;}#sk-container-id-4 div.sk-label-container {text-align: center;}#sk-container-id-4 div.sk-container {/* jupyter's `normalize.less` sets `[hidden] { display: none; }` but bootstrap.min.css set `[hidden] { display: none !important; }` so we also need the `!important` here to be able to override the default hidden behavior on the sphinx rendered scikit-learn.org. See: https://github.com/scikit-learn/scikit-learn/issues/21755 */display: inline-block !important;position: relative;}#sk-container-id-4 div.sk-text-repr-fallback {display: none;}</style><div id=\"sk-container-id-4\" class=\"sk-top-container\"><div class=\"sk-text-repr-fallback\"><pre>LogisticRegression()</pre><b>In a Jupyter environment, please rerun this cell to show the HTML representation or trust the notebook. <br />On GitHub, the HTML representation is unable to render, please try loading this page with nbviewer.org.</b></div><div class=\"sk-container\" hidden><div class=\"sk-item\"><div class=\"sk-estimator sk-toggleable\"><input class=\"sk-toggleable__control sk-hidden--visually\" id=\"sk-estimator-id-4\" type=\"checkbox\" checked><label for=\"sk-estimator-id-4\" class=\"sk-toggleable__label sk-toggleable__label-arrow\">LogisticRegression</label><div class=\"sk-toggleable__content\"><pre>LogisticRegression()</pre></div></div></div></div></div>"
      ],
      "text/plain": [
       "LogisticRegression()"
      ]
     },
     "execution_count": 45,
     "metadata": {},
     "output_type": "execute_result"
    }
   ],
   "source": [
    "model.fit(x_train_feature,y_train)"
   ]
  },
  {
   "cell_type": "code",
   "execution_count": 46,
   "id": "5bba6d14",
   "metadata": {},
   "outputs": [],
   "source": [
    "#Process of training the model\n",
    "prediction=model.predict(x_test_feature)"
   ]
  },
  {
   "cell_type": "code",
   "execution_count": 47,
   "id": "6033a316",
   "metadata": {},
   "outputs": [
    {
     "data": {
      "text/plain": [
       "array([1, 1, 1, ..., 1, 1, 1])"
      ]
     },
     "execution_count": 47,
     "metadata": {},
     "output_type": "execute_result"
    }
   ],
   "source": [
    "prediction"
   ]
  },
  {
   "cell_type": "code",
   "execution_count": 48,
   "id": "71b4d289",
   "metadata": {},
   "outputs": [
    {
     "name": "stdout",
     "output_type": "stream",
     "text": [
      "The accuracy of the above model is= 0.9739910313901345\n"
     ]
    }
   ],
   "source": [
    "acc=accuracy_score(prediction,y_test)\n",
    "print(\"The accuracy of the above model is=\",acc)"
   ]
  },
  {
   "cell_type": "code",
   "execution_count": 49,
   "id": "18185cc8",
   "metadata": {},
   "outputs": [
    {
     "data": {
      "text/plain": [
       "\"They don't put that stuff on the roads to keep it from getting slippery over there?\""
      ]
     },
     "execution_count": 49,
     "metadata": {},
     "output_type": "execute_result"
    }
   ],
   "source": [
    "#-->real time verification \n",
    "#input_mail=[\"\"]\n",
    "raw_mail_data['Message'][467]"
   ]
  },
  {
   "cell_type": "code",
   "execution_count": 50,
   "id": "6838f5f1",
   "metadata": {},
   "outputs": [
    {
     "data": {
      "text/plain": [
       "1"
      ]
     },
     "execution_count": 50,
     "metadata": {},
     "output_type": "execute_result"
    }
   ],
   "source": [
    "raw_mail_data['Category'][467]"
   ]
  },
  {
   "cell_type": "code",
   "execution_count": 51,
   "id": "354a3df1",
   "metadata": {},
   "outputs": [],
   "source": [
    "input_mail=[\"They don't put that stuff on the roads to keep it from getting slippery over there?\"]"
   ]
  },
  {
   "cell_type": "code",
   "execution_count": 52,
   "id": "e2a1888f",
   "metadata": {},
   "outputs": [
    {
     "name": "stdout",
     "output_type": "stream",
     "text": [
      "  (0, 6918)\t0.11462011769865904\n",
      "  (0, 6822)\t0.25774071665904946\n",
      "  (0, 6815)\t0.22155100008950354\n",
      "  (0, 6796)\t0.14125200473119953\n",
      "  (0, 6792)\t0.17604256821746816\n",
      "  (0, 6523)\t0.3083538222027477\n",
      "  (0, 5790)\t0.45471929907786857\n",
      "  (0, 5501)\t0.32284917634973564\n",
      "  (0, 5031)\t0.28461171792610596\n",
      "  (0, 4935)\t0.17914510806000777\n",
      "  (0, 3895)\t0.2836171978638675\n",
      "  (0, 3746)\t0.16803012085611652\n",
      "  (0, 3122)\t0.3009880063583691\n",
      "  (0, 3012)\t0.2100206764052388\n",
      "  (0, 2397)\t0.2405173161069958\n"
     ]
    }
   ],
   "source": [
    "input_data_feature=feature_extraction.transform(input_mail)\n",
    "print(input_data_feature)"
   ]
  },
  {
   "cell_type": "code",
   "execution_count": 53,
   "id": "37c336e4",
   "metadata": {},
   "outputs": [
    {
     "name": "stdout",
     "output_type": "stream",
     "text": [
      "Its Ham mail\n"
     ]
    }
   ],
   "source": [
    "prediction=model.predict(input_data_feature)\n",
    "if prediction[0]==1:\n",
    "    print(\"Its Ham mail\")\n",
    "else:\n",
    "    print(\"Its Spam mail\")"
   ]
  },
  {
   "cell_type": "code",
   "execution_count": 54,
   "id": "382a250e",
   "metadata": {},
   "outputs": [],
   "source": [
    "# #to retrive the elements from webpage\n",
    "# #-->find element by name attribute\n",
    "# ele=webD.find_element_by_name('element name')\n",
    "\n",
    "# #-->find element by link\n",
    "# ele=webD.find_element_by_link('link')\n",
    "\n",
    "# #-->find element by tagname\n",
    "# ele=webD.find_element_by_tag_name('link')\n",
    "\n",
    "# #-->find element by xpath\n",
    "# ele=webD.find_element_by_tag_xpath('xpath')\n",
    "\n",
    "# #-->find element by classname\n",
    "# ele=webD.find_element_by_class_name('classname')\n",
    "\n",
    "# #-->find element by id\n",
    "# ele=webD.find_element_by_id('id')"
   ]
  },
  {
   "cell_type": "code",
   "execution_count": 59,
   "id": "4b21dce5",
   "metadata": {},
   "outputs": [],
   "source": [
    "from selenium import webdriver\n",
    "from selenium.webdriver.chrome.service import Service\n",
    "from selenium.webdriver.common.by import By\n",
    "s = Service(r\"C:\\Users\\saray\\OneDrive\\Desktop\\chromedriver-win64\\chromedriver.exe\")\n",
    "webD = webdriver.Chrome(service=s)\n",
    "webD.get(\"https://books.toscrape.com/\")"
   ]
  },
  {
   "cell_type": "code",
   "execution_count": 60,
   "id": "561f29d3",
   "metadata": {},
   "outputs": [
    {
     "name": "stdout",
     "output_type": "stream",
     "text": [
      "<selenium.webdriver.remote.webelement.WebElement (session=\"ab99e2250259fe0a88b670480312e4dd\", element=\"f.3C618BAD1E68557CD10CDD59D0071FBD.d.D03FD062CF6D6E7C35A8EB55BABC7CE4.e.22\")>\n"
     ]
    }
   ],
   "source": [
    "ele = webD.find_element(By.CLASS_NAME, \"col-sm-8.h1\")\n",
    "print(ele)"
   ]
  },
  {
   "cell_type": "code",
   "execution_count": 61,
   "id": "95b0ae57",
   "metadata": {},
   "outputs": [],
   "source": [
    "#!To scrap the title\n",
    "#col-sm-8-h1\n",
    "#title=webD.find_element_by_class_name(\"col-sm-8-h1\")\n",
    "#a=webD.find_element_by_tag_name('a')\n",
    "#a=webD.find_element(By.TAG_NAME,'a')\n",
    "#print(a.text)"
   ]
  },
  {
   "cell_type": "code",
   "execution_count": 62,
   "id": "ca4aa8fb",
   "metadata": {},
   "outputs": [
    {
     "name": "stdout",
     "output_type": "stream",
     "text": [
      "Books to Scrape\n"
     ]
    }
   ],
   "source": [
    "a=webD.find_element(By.TAG_NAME,'a')\n",
    "print(a.text)"
   ]
  },
  {
   "cell_type": "code",
   "execution_count": 63,
   "id": "d61e6362",
   "metadata": {},
   "outputs": [
    {
     "name": "stdout",
     "output_type": "stream",
     "text": [
      "Books\n",
      "Travel\n",
      "Mystery\n",
      "Historical Fiction\n",
      "Sequential Art\n",
      "Classics\n",
      "Philosophy\n",
      "Romance\n",
      "Womens Fiction\n",
      "Fiction\n",
      "Childrens\n",
      "Religion\n",
      "Nonfiction\n",
      "Music\n",
      "Default\n",
      "Science Fiction\n",
      "Sports and Games\n",
      "Add a comment\n",
      "Fantasy\n",
      "New Adult\n",
      "Young Adult\n",
      "Science\n",
      "Poetry\n",
      "Paranormal\n",
      "Art\n",
      "Psychology\n",
      "Autobiography\n",
      "Parenting\n",
      "Adult Fiction\n",
      "Humor\n",
      "Horror\n",
      "History\n",
      "Food and Drink\n",
      "Christian Fiction\n",
      "Business\n",
      "Biography\n",
      "Thriller\n",
      "Contemporary\n",
      "Spirituality\n",
      "Academic\n",
      "Self Help\n",
      "Historical\n",
      "Christian\n",
      "Suspense\n",
      "Short Stories\n",
      "Novels\n",
      "Health\n",
      "Politics\n",
      "Cultural\n",
      "Erotica\n",
      "Crime\n",
      "Travel\n",
      "Mystery\n",
      "Historical Fiction\n",
      "Sequential Art\n",
      "Classics\n",
      "Philosophy\n",
      "Romance\n",
      "Womens Fiction\n",
      "Fiction\n",
      "Childrens\n",
      "Religion\n",
      "Nonfiction\n",
      "Music\n",
      "Default\n",
      "Science Fiction\n",
      "Sports and Games\n",
      "Add a comment\n",
      "Fantasy\n",
      "New Adult\n",
      "Young Adult\n",
      "Science\n",
      "Poetry\n",
      "Paranormal\n",
      "Art\n",
      "Psychology\n",
      "Autobiography\n",
      "Parenting\n",
      "Adult Fiction\n",
      "Humor\n",
      "Horror\n",
      "History\n",
      "Food and Drink\n",
      "Christian Fiction\n",
      "Business\n",
      "Biography\n",
      "Thriller\n",
      "Contemporary\n",
      "Spirituality\n",
      "Academic\n",
      "Self Help\n",
      "Historical\n",
      "Christian\n",
      "Suspense\n",
      "Short Stories\n",
      "Novels\n",
      "Health\n",
      "Politics\n",
      "Cultural\n",
      "Erotica\n",
      "Crime\n"
     ]
    }
   ],
   "source": [
    "#!To get all the books category \n",
    "class_name = webD.find_element(By.CLASS_NAME,\"side_categories\")\n",
    "list1 = class_name.find_elements(By.TAG_NAME,'li')\n",
    "for val in list1:\n",
    "    print(val.text)\n",
    "\n",
    "    "
   ]
  },
  {
   "cell_type": "code",
   "execution_count": 64,
   "id": "c9c08088",
   "metadata": {},
   "outputs": [
    {
     "name": "stdout",
     "output_type": "stream",
     "text": [
      "Books to Scrape\n",
      "[<selenium.webdriver.remote.webelement.WebElement (session=\"ab99e2250259fe0a88b670480312e4dd\", element=\"f.3C618BAD1E68557CD10CDD59D0071FBD.d.D03FD062CF6D6E7C35A8EB55BABC7CE4.e.25\")>, <selenium.webdriver.remote.webelement.WebElement (session=\"ab99e2250259fe0a88b670480312e4dd\", element=\"f.3C618BAD1E68557CD10CDD59D0071FBD.d.D03FD062CF6D6E7C35A8EB55BABC7CE4.e.26\")>, <selenium.webdriver.remote.webelement.WebElement (session=\"ab99e2250259fe0a88b670480312e4dd\", element=\"f.3C618BAD1E68557CD10CDD59D0071FBD.d.D03FD062CF6D6E7C35A8EB55BABC7CE4.e.27\")>, <selenium.webdriver.remote.webelement.WebElement (session=\"ab99e2250259fe0a88b670480312e4dd\", element=\"f.3C618BAD1E68557CD10CDD59D0071FBD.d.D03FD062CF6D6E7C35A8EB55BABC7CE4.e.28\")>, <selenium.webdriver.remote.webelement.WebElement (session=\"ab99e2250259fe0a88b670480312e4dd\", element=\"f.3C618BAD1E68557CD10CDD59D0071FBD.d.D03FD062CF6D6E7C35A8EB55BABC7CE4.e.29\")>, <selenium.webdriver.remote.webelement.WebElement (session=\"ab99e2250259fe0a88b670480312e4dd\", element=\"f.3C618BAD1E68557CD10CDD59D0071FBD.d.D03FD062CF6D6E7C35A8EB55BABC7CE4.e.30\")>, <selenium.webdriver.remote.webelement.WebElement (session=\"ab99e2250259fe0a88b670480312e4dd\", element=\"f.3C618BAD1E68557CD10CDD59D0071FBD.d.D03FD062CF6D6E7C35A8EB55BABC7CE4.e.31\")>, <selenium.webdriver.remote.webelement.WebElement (session=\"ab99e2250259fe0a88b670480312e4dd\", element=\"f.3C618BAD1E68557CD10CDD59D0071FBD.d.D03FD062CF6D6E7C35A8EB55BABC7CE4.e.32\")>, <selenium.webdriver.remote.webelement.WebElement (session=\"ab99e2250259fe0a88b670480312e4dd\", element=\"f.3C618BAD1E68557CD10CDD59D0071FBD.d.D03FD062CF6D6E7C35A8EB55BABC7CE4.e.33\")>, <selenium.webdriver.remote.webelement.WebElement (session=\"ab99e2250259fe0a88b670480312e4dd\", element=\"f.3C618BAD1E68557CD10CDD59D0071FBD.d.D03FD062CF6D6E7C35A8EB55BABC7CE4.e.34\")>, <selenium.webdriver.remote.webelement.WebElement (session=\"ab99e2250259fe0a88b670480312e4dd\", element=\"f.3C618BAD1E68557CD10CDD59D0071FBD.d.D03FD062CF6D6E7C35A8EB55BABC7CE4.e.35\")>, <selenium.webdriver.remote.webelement.WebElement (session=\"ab99e2250259fe0a88b670480312e4dd\", element=\"f.3C618BAD1E68557CD10CDD59D0071FBD.d.D03FD062CF6D6E7C35A8EB55BABC7CE4.e.36\")>, <selenium.webdriver.remote.webelement.WebElement (session=\"ab99e2250259fe0a88b670480312e4dd\", element=\"f.3C618BAD1E68557CD10CDD59D0071FBD.d.D03FD062CF6D6E7C35A8EB55BABC7CE4.e.37\")>, <selenium.webdriver.remote.webelement.WebElement (session=\"ab99e2250259fe0a88b670480312e4dd\", element=\"f.3C618BAD1E68557CD10CDD59D0071FBD.d.D03FD062CF6D6E7C35A8EB55BABC7CE4.e.38\")>, <selenium.webdriver.remote.webelement.WebElement (session=\"ab99e2250259fe0a88b670480312e4dd\", element=\"f.3C618BAD1E68557CD10CDD59D0071FBD.d.D03FD062CF6D6E7C35A8EB55BABC7CE4.e.39\")>, <selenium.webdriver.remote.webelement.WebElement (session=\"ab99e2250259fe0a88b670480312e4dd\", element=\"f.3C618BAD1E68557CD10CDD59D0071FBD.d.D03FD062CF6D6E7C35A8EB55BABC7CE4.e.40\")>, <selenium.webdriver.remote.webelement.WebElement (session=\"ab99e2250259fe0a88b670480312e4dd\", element=\"f.3C618BAD1E68557CD10CDD59D0071FBD.d.D03FD062CF6D6E7C35A8EB55BABC7CE4.e.41\")>, <selenium.webdriver.remote.webelement.WebElement (session=\"ab99e2250259fe0a88b670480312e4dd\", element=\"f.3C618BAD1E68557CD10CDD59D0071FBD.d.D03FD062CF6D6E7C35A8EB55BABC7CE4.e.42\")>, <selenium.webdriver.remote.webelement.WebElement (session=\"ab99e2250259fe0a88b670480312e4dd\", element=\"f.3C618BAD1E68557CD10CDD59D0071FBD.d.D03FD062CF6D6E7C35A8EB55BABC7CE4.e.43\")>, <selenium.webdriver.remote.webelement.WebElement (session=\"ab99e2250259fe0a88b670480312e4dd\", element=\"f.3C618BAD1E68557CD10CDD59D0071FBD.d.D03FD062CF6D6E7C35A8EB55BABC7CE4.e.44\")>, <selenium.webdriver.remote.webelement.WebElement (session=\"ab99e2250259fe0a88b670480312e4dd\", element=\"f.3C618BAD1E68557CD10CDD59D0071FBD.d.D03FD062CF6D6E7C35A8EB55BABC7CE4.e.45\")>, <selenium.webdriver.remote.webelement.WebElement (session=\"ab99e2250259fe0a88b670480312e4dd\", element=\"f.3C618BAD1E68557CD10CDD59D0071FBD.d.D03FD062CF6D6E7C35A8EB55BABC7CE4.e.46\")>, <selenium.webdriver.remote.webelement.WebElement (session=\"ab99e2250259fe0a88b670480312e4dd\", element=\"f.3C618BAD1E68557CD10CDD59D0071FBD.d.D03FD062CF6D6E7C35A8EB55BABC7CE4.e.47\")>, <selenium.webdriver.remote.webelement.WebElement (session=\"ab99e2250259fe0a88b670480312e4dd\", element=\"f.3C618BAD1E68557CD10CDD59D0071FBD.d.D03FD062CF6D6E7C35A8EB55BABC7CE4.e.48\")>, <selenium.webdriver.remote.webelement.WebElement (session=\"ab99e2250259fe0a88b670480312e4dd\", element=\"f.3C618BAD1E68557CD10CDD59D0071FBD.d.D03FD062CF6D6E7C35A8EB55BABC7CE4.e.49\")>, <selenium.webdriver.remote.webelement.WebElement (session=\"ab99e2250259fe0a88b670480312e4dd\", element=\"f.3C618BAD1E68557CD10CDD59D0071FBD.d.D03FD062CF6D6E7C35A8EB55BABC7CE4.e.50\")>, <selenium.webdriver.remote.webelement.WebElement (session=\"ab99e2250259fe0a88b670480312e4dd\", element=\"f.3C618BAD1E68557CD10CDD59D0071FBD.d.D03FD062CF6D6E7C35A8EB55BABC7CE4.e.51\")>, <selenium.webdriver.remote.webelement.WebElement (session=\"ab99e2250259fe0a88b670480312e4dd\", element=\"f.3C618BAD1E68557CD10CDD59D0071FBD.d.D03FD062CF6D6E7C35A8EB55BABC7CE4.e.52\")>, <selenium.webdriver.remote.webelement.WebElement (session=\"ab99e2250259fe0a88b670480312e4dd\", element=\"f.3C618BAD1E68557CD10CDD59D0071FBD.d.D03FD062CF6D6E7C35A8EB55BABC7CE4.e.53\")>, <selenium.webdriver.remote.webelement.WebElement (session=\"ab99e2250259fe0a88b670480312e4dd\", element=\"f.3C618BAD1E68557CD10CDD59D0071FBD.d.D03FD062CF6D6E7C35A8EB55BABC7CE4.e.54\")>, <selenium.webdriver.remote.webelement.WebElement (session=\"ab99e2250259fe0a88b670480312e4dd\", element=\"f.3C618BAD1E68557CD10CDD59D0071FBD.d.D03FD062CF6D6E7C35A8EB55BABC7CE4.e.55\")>, <selenium.webdriver.remote.webelement.WebElement (session=\"ab99e2250259fe0a88b670480312e4dd\", element=\"f.3C618BAD1E68557CD10CDD59D0071FBD.d.D03FD062CF6D6E7C35A8EB55BABC7CE4.e.56\")>, <selenium.webdriver.remote.webelement.WebElement (session=\"ab99e2250259fe0a88b670480312e4dd\", element=\"f.3C618BAD1E68557CD10CDD59D0071FBD.d.D03FD062CF6D6E7C35A8EB55BABC7CE4.e.57\")>, <selenium.webdriver.remote.webelement.WebElement (session=\"ab99e2250259fe0a88b670480312e4dd\", element=\"f.3C618BAD1E68557CD10CDD59D0071FBD.d.D03FD062CF6D6E7C35A8EB55BABC7CE4.e.58\")>, <selenium.webdriver.remote.webelement.WebElement (session=\"ab99e2250259fe0a88b670480312e4dd\", element=\"f.3C618BAD1E68557CD10CDD59D0071FBD.d.D03FD062CF6D6E7C35A8EB55BABC7CE4.e.59\")>, <selenium.webdriver.remote.webelement.WebElement (session=\"ab99e2250259fe0a88b670480312e4dd\", element=\"f.3C618BAD1E68557CD10CDD59D0071FBD.d.D03FD062CF6D6E7C35A8EB55BABC7CE4.e.60\")>, <selenium.webdriver.remote.webelement.WebElement (session=\"ab99e2250259fe0a88b670480312e4dd\", element=\"f.3C618BAD1E68557CD10CDD59D0071FBD.d.D03FD062CF6D6E7C35A8EB55BABC7CE4.e.61\")>, <selenium.webdriver.remote.webelement.WebElement (session=\"ab99e2250259fe0a88b670480312e4dd\", element=\"f.3C618BAD1E68557CD10CDD59D0071FBD.d.D03FD062CF6D6E7C35A8EB55BABC7CE4.e.62\")>, <selenium.webdriver.remote.webelement.WebElement (session=\"ab99e2250259fe0a88b670480312e4dd\", element=\"f.3C618BAD1E68557CD10CDD59D0071FBD.d.D03FD062CF6D6E7C35A8EB55BABC7CE4.e.63\")>, <selenium.webdriver.remote.webelement.WebElement (session=\"ab99e2250259fe0a88b670480312e4dd\", element=\"f.3C618BAD1E68557CD10CDD59D0071FBD.d.D03FD062CF6D6E7C35A8EB55BABC7CE4.e.64\")>, <selenium.webdriver.remote.webelement.WebElement (session=\"ab99e2250259fe0a88b670480312e4dd\", element=\"f.3C618BAD1E68557CD10CDD59D0071FBD.d.D03FD062CF6D6E7C35A8EB55BABC7CE4.e.65\")>, <selenium.webdriver.remote.webelement.WebElement (session=\"ab99e2250259fe0a88b670480312e4dd\", element=\"f.3C618BAD1E68557CD10CDD59D0071FBD.d.D03FD062CF6D6E7C35A8EB55BABC7CE4.e.66\")>, <selenium.webdriver.remote.webelement.WebElement (session=\"ab99e2250259fe0a88b670480312e4dd\", element=\"f.3C618BAD1E68557CD10CDD59D0071FBD.d.D03FD062CF6D6E7C35A8EB55BABC7CE4.e.67\")>, <selenium.webdriver.remote.webelement.WebElement (session=\"ab99e2250259fe0a88b670480312e4dd\", element=\"f.3C618BAD1E68557CD10CDD59D0071FBD.d.D03FD062CF6D6E7C35A8EB55BABC7CE4.e.68\")>, <selenium.webdriver.remote.webelement.WebElement (session=\"ab99e2250259fe0a88b670480312e4dd\", element=\"f.3C618BAD1E68557CD10CDD59D0071FBD.d.D03FD062CF6D6E7C35A8EB55BABC7CE4.e.69\")>, <selenium.webdriver.remote.webelement.WebElement (session=\"ab99e2250259fe0a88b670480312e4dd\", element=\"f.3C618BAD1E68557CD10CDD59D0071FBD.d.D03FD062CF6D6E7C35A8EB55BABC7CE4.e.70\")>, <selenium.webdriver.remote.webelement.WebElement (session=\"ab99e2250259fe0a88b670480312e4dd\", element=\"f.3C618BAD1E68557CD10CDD59D0071FBD.d.D03FD062CF6D6E7C35A8EB55BABC7CE4.e.71\")>, <selenium.webdriver.remote.webelement.WebElement (session=\"ab99e2250259fe0a88b670480312e4dd\", element=\"f.3C618BAD1E68557CD10CDD59D0071FBD.d.D03FD062CF6D6E7C35A8EB55BABC7CE4.e.72\")>, <selenium.webdriver.remote.webelement.WebElement (session=\"ab99e2250259fe0a88b670480312e4dd\", element=\"f.3C618BAD1E68557CD10CDD59D0071FBD.d.D03FD062CF6D6E7C35A8EB55BABC7CE4.e.73\")>, <selenium.webdriver.remote.webelement.WebElement (session=\"ab99e2250259fe0a88b670480312e4dd\", element=\"f.3C618BAD1E68557CD10CDD59D0071FBD.d.D03FD062CF6D6E7C35A8EB55BABC7CE4.e.74\")>, <selenium.webdriver.remote.webelement.WebElement (session=\"ab99e2250259fe0a88b670480312e4dd\", element=\"f.3C618BAD1E68557CD10CDD59D0071FBD.d.D03FD062CF6D6E7C35A8EB55BABC7CE4.e.75\")>]\n"
     ]
    }
   ],
   "source": [
    "a=webD.find_element(By.TAG_NAME,'a')\n",
    "print(a.text)\n",
    "class_name = webD.find_element(By.CLASS_NAME,\"side_categories\")\n",
    "list1 = class_name.find_elements(By.TAG_NAME,'li')\n",
    "print(list1)"
   ]
  },
  {
   "cell_type": "code",
   "execution_count": 84,
   "id": "52aebc3c",
   "metadata": {},
   "outputs": [],
   "source": [
    "from selenium import webdriver\n",
    "from selenium.webdriver.chrome.service import Service\n",
    "from selenium.webdriver.common.by import By\n",
    "s = Service(r\"C:\\Users\\saray\\OneDrive\\Desktop\\chromedriver-win64\\chromedriver.exe\")\n",
    "webD = webdriver.Chrome(service=s)\n",
    "webD.get(\"https://www.amazon.in/Samsung-Galaxy-Smartphone-Titanium-Storage/dp/B0CQYGF1QY/ref=sr_1_1_sspa?dib=eyJ2IjoiMSJ9.Cvb5oQzTTBkyPpPhqlOvz7EOkchHQvkaDbo4APYoTqkyCkDMU0P0AGISBFc0w5QMLvahQc-e4W1EpHPQKrJKT0tnC9eKDwaIKs1yhz1h2QxFeCc7nsqdW_AXyDl6IfEsEaYNCiZMIZGUcZwg69dQmtK51d1ey6bB_1o9O03mfTo0kjyYaSiQT9W1I6d-HqJ0Ep1FfSunwYGWTtKbkF6l6WZR81yNXsJgStRW5EYuiV-p0TlKINP8URLKYjS2D9v1qduBlWWEKcIrrEqTnt5HAooc8vB14NbkFpj_bqvXESU.v7TOLXxZ5L8j24iavxyH9Lr4vZ19xm1r44KhvJ4i9K4&dib_tag=se&keywords=samsung%2Bfold&qid=1708522603&s=electronics&sr=1-1-spons&sp_csd=d2lkZ2V0TmFtZT1zcF9hdGY&th=1\")"
   ]
  },
  {
   "cell_type": "code",
   "execution_count": 93,
   "id": "2f1a6e68",
   "metadata": {},
   "outputs": [],
   "source": [
    "from selenium import webdriver\n",
    "from selenium.webdriver.chrome.service import Service\n",
    "from selenium.webdriver.common.by import By\n",
    "s = Service(r\"C:\\Users\\saray\\OneDrive\\Desktop\\chromedriver-win64\\chromedriver.exe\")\n",
    "webD = webdriver.Chrome(service=s)\n",
    "webD.get(\"https://www.flipkart.com/samsung-galaxy-z-fold5-cream-256-gb/p/itm5e9a1e2b0b9d9?pid=MOBGRS32ZCAVYQ7V&lid=LSTMOBGRS32ZCAVYQ7VEMYE2L&marketplace=FLIPKART&q=samsung%20fold&sattr[]=color&sattr[]=storage&st=color&otracker=search\")"
   ]
  },
  {
   "cell_type": "code",
   "execution_count": 95,
   "id": "78bbcce4",
   "metadata": {},
   "outputs": [
    {
     "ename": "AttributeError",
     "evalue": "'str' object has no attribute 'capabilities'",
     "output_type": "error",
     "traceback": [
      "\u001b[1;31m---------------------------------------------------------------------------\u001b[0m",
      "\u001b[1;31mAttributeError\u001b[0m                            Traceback (most recent call last)",
      "File \u001b[1;32m~\\AppData\\Roaming\\Python\\Python311\\site-packages\\selenium\\webdriver\\common\\driver_finder.py:38\u001b[0m, in \u001b[0;36mDriverFinder.get_path\u001b[1;34m(service, options)\u001b[0m\n\u001b[0;32m     37\u001b[0m \u001b[38;5;28;01mtry\u001b[39;00m:\n\u001b[1;32m---> 38\u001b[0m     path \u001b[38;5;241m=\u001b[39m SeleniumManager()\u001b[38;5;241m.\u001b[39mdriver_location(options) \u001b[38;5;28;01mif\u001b[39;00m path \u001b[38;5;129;01mis\u001b[39;00m \u001b[38;5;28;01mNone\u001b[39;00m \u001b[38;5;28;01melse\u001b[39;00m path\n\u001b[0;32m     39\u001b[0m \u001b[38;5;28;01mexcept\u001b[39;00m \u001b[38;5;167;01mException\u001b[39;00m \u001b[38;5;28;01mas\u001b[39;00m err:\n",
      "File \u001b[1;32m~\\AppData\\Roaming\\Python\\Python311\\site-packages\\selenium\\webdriver\\common\\selenium_manager.py:87\u001b[0m, in \u001b[0;36mSeleniumManager.driver_location\u001b[1;34m(self, options)\u001b[0m\n\u001b[0;32m     80\u001b[0m \u001b[38;5;250m\u001b[39m\u001b[38;5;124;03m\"\"\"Determines the path of the correct driver.\u001b[39;00m\n\u001b[0;32m     81\u001b[0m \n\u001b[0;32m     82\u001b[0m \u001b[38;5;124;03m:Args:\u001b[39;00m\n\u001b[0;32m     83\u001b[0m \u001b[38;5;124;03m - browser: which browser to get the driver path for.\u001b[39;00m\n\u001b[0;32m     84\u001b[0m \u001b[38;5;124;03m:Returns: The driver path to use\u001b[39;00m\n\u001b[0;32m     85\u001b[0m \u001b[38;5;124;03m\"\"\"\u001b[39;00m\n\u001b[1;32m---> 87\u001b[0m browser \u001b[38;5;241m=\u001b[39m options\u001b[38;5;241m.\u001b[39mcapabilities[\u001b[38;5;124m\"\u001b[39m\u001b[38;5;124mbrowserName\u001b[39m\u001b[38;5;124m\"\u001b[39m]\n\u001b[0;32m     89\u001b[0m args \u001b[38;5;241m=\u001b[39m [\u001b[38;5;28mstr\u001b[39m(\u001b[38;5;28mself\u001b[39m\u001b[38;5;241m.\u001b[39mget_binary()), \u001b[38;5;124m\"\u001b[39m\u001b[38;5;124m--browser\u001b[39m\u001b[38;5;124m\"\u001b[39m, browser]\n",
      "\u001b[1;31mAttributeError\u001b[0m: 'str' object has no attribute 'capabilities'",
      "\nDuring handling of the above exception, another exception occurred:\n",
      "\u001b[1;31mAttributeError\u001b[0m                            Traceback (most recent call last)",
      "Cell \u001b[1;32mIn[95], line 32\u001b[0m\n\u001b[0;32m     29\u001b[0m     \u001b[38;5;28;01mreturn\u001b[39;00m data_from_website2\n\u001b[0;32m     31\u001b[0m \u001b[38;5;28;01mif\u001b[39;00m \u001b[38;5;18m__name__\u001b[39m \u001b[38;5;241m==\u001b[39m \u001b[38;5;124m\"\u001b[39m\u001b[38;5;124m__main__\u001b[39m\u001b[38;5;124m\"\u001b[39m:\n\u001b[1;32m---> 32\u001b[0m     data1 \u001b[38;5;241m=\u001b[39m scrape_website1()\n\u001b[0;32m     33\u001b[0m     data2 \u001b[38;5;241m=\u001b[39m scrape_website2()\n\u001b[0;32m     35\u001b[0m     \u001b[38;5;66;03m# Process or save the scraped data as needed\u001b[39;00m\n",
      "Cell \u001b[1;32mIn[95], line 7\u001b[0m, in \u001b[0;36mscrape_website1\u001b[1;34m()\u001b[0m\n\u001b[0;32m      6\u001b[0m \u001b[38;5;28;01mdef\u001b[39;00m \u001b[38;5;21mscrape_website1\u001b[39m():\n\u001b[1;32m----> 7\u001b[0m     driver \u001b[38;5;241m=\u001b[39m webdriver\u001b[38;5;241m.\u001b[39mChrome(\u001b[38;5;124m\"\u001b[39m\u001b[38;5;124mC:\u001b[39m\u001b[38;5;130;01m\\\\\u001b[39;00m\u001b[38;5;124mUsers\u001b[39m\u001b[38;5;130;01m\\\\\u001b[39;00m\u001b[38;5;124msaray\u001b[39m\u001b[38;5;130;01m\\\\\u001b[39;00m\u001b[38;5;124mOneDrive\u001b[39m\u001b[38;5;130;01m\\\\\u001b[39;00m\u001b[38;5;124mDesktop\u001b[39m\u001b[38;5;130;01m\\\\\u001b[39;00m\u001b[38;5;124mchromedriver-win64\u001b[39m\u001b[38;5;130;01m\\\\\u001b[39;00m\u001b[38;5;124mchromedriver.exe\u001b[39m\u001b[38;5;124m\"\u001b[39m)  \u001b[38;5;66;03m# You can use other browsers by changing this line\u001b[39;00m\n\u001b[0;32m      8\u001b[0m     driver\u001b[38;5;241m.\u001b[39mget(\u001b[38;5;124m\"\u001b[39m\u001b[38;5;124mhttps://www.amazon.in/Samsung-Galaxy-Smartphone-Titanium-Storage/dp/B0CQYGF1QY/ref=sr_1_1_sspa?dib=eyJ2IjoiMSJ9.Cvb5oQzTTBkyPpPhqlOvz7EOkchHQvkaDbo4APYoTqkyCkDMU0P0AGISBFc0w5QMLvahQc-e4W1EpHPQKrJKT0tnC9eKDwaIKs1yhz1h2QxFeCc7nsqdW_AXyDl6IfEsEaYNCiZMIZGUcZwg69dQmtK51d1ey6bB_1o9O03mfTo0kjyYaSiQT9W1I6d-HqJ0Ep1FfSunwYGWTtKbkF6l6WZR81yNXsJgStRW5EYuiV-p0TlKINP8URLKYjS2D9v1qduBlWWEKcIrrEqTnt5HAooc8vB14NbkFpj_bqvXESU.v7TOLXxZ5L8j24iavxyH9Lr4vZ19xm1r44KhvJ4i9K4&dib_tag=se&keywords=samsung\u001b[39m\u001b[38;5;124m%\u001b[39m\u001b[38;5;124m2Bfold&qid=1708522603&s=electronics&sr=1-1-spons&sp_csd=d2lkZ2V0TmFtZT1zcF9hdGY&th=1\u001b[39m\u001b[38;5;124m\"\u001b[39m)\n\u001b[0;32m     10\u001b[0m     \u001b[38;5;66;03m# Add your scraping logic for Website 1\u001b[39;00m\n\u001b[0;32m     11\u001b[0m     \u001b[38;5;66;03m# For example:\u001b[39;00m\n",
      "File \u001b[1;32m~\\AppData\\Roaming\\Python\\Python311\\site-packages\\selenium\\webdriver\\chrome\\webdriver.py:45\u001b[0m, in \u001b[0;36mWebDriver.__init__\u001b[1;34m(self, options, service, keep_alive)\u001b[0m\n\u001b[0;32m     42\u001b[0m service \u001b[38;5;241m=\u001b[39m service \u001b[38;5;28;01mif\u001b[39;00m service \u001b[38;5;28;01melse\u001b[39;00m Service()\n\u001b[0;32m     43\u001b[0m options \u001b[38;5;241m=\u001b[39m options \u001b[38;5;28;01mif\u001b[39;00m options \u001b[38;5;28;01melse\u001b[39;00m Options()\n\u001b[1;32m---> 45\u001b[0m \u001b[38;5;28msuper\u001b[39m()\u001b[38;5;241m.\u001b[39m\u001b[38;5;21m__init__\u001b[39m(\n\u001b[0;32m     46\u001b[0m     browser_name\u001b[38;5;241m=\u001b[39mDesiredCapabilities\u001b[38;5;241m.\u001b[39mCHROME[\u001b[38;5;124m\"\u001b[39m\u001b[38;5;124mbrowserName\u001b[39m\u001b[38;5;124m\"\u001b[39m],\n\u001b[0;32m     47\u001b[0m     vendor_prefix\u001b[38;5;241m=\u001b[39m\u001b[38;5;124m\"\u001b[39m\u001b[38;5;124mgoog\u001b[39m\u001b[38;5;124m\"\u001b[39m,\n\u001b[0;32m     48\u001b[0m     options\u001b[38;5;241m=\u001b[39moptions,\n\u001b[0;32m     49\u001b[0m     service\u001b[38;5;241m=\u001b[39mservice,\n\u001b[0;32m     50\u001b[0m     keep_alive\u001b[38;5;241m=\u001b[39mkeep_alive,\n\u001b[0;32m     51\u001b[0m )\n",
      "File \u001b[1;32m~\\AppData\\Roaming\\Python\\Python311\\site-packages\\selenium\\webdriver\\chromium\\webdriver.py:49\u001b[0m, in \u001b[0;36mChromiumDriver.__init__\u001b[1;34m(self, browser_name, vendor_prefix, options, service, keep_alive)\u001b[0m\n\u001b[0;32m     37\u001b[0m \u001b[38;5;250m\u001b[39m\u001b[38;5;124;03m\"\"\"Creates a new WebDriver instance of the ChromiumDriver. Starts the\u001b[39;00m\n\u001b[0;32m     38\u001b[0m \u001b[38;5;124;03mservice and then creates new WebDriver instance of ChromiumDriver.\u001b[39;00m\n\u001b[0;32m     39\u001b[0m \n\u001b[1;32m   (...)\u001b[0m\n\u001b[0;32m     45\u001b[0m \u001b[38;5;124;03m - keep_alive - Whether to configure ChromiumRemoteConnection to use HTTP keep-alive.\u001b[39;00m\n\u001b[0;32m     46\u001b[0m \u001b[38;5;124;03m\"\"\"\u001b[39;00m\n\u001b[0;32m     47\u001b[0m \u001b[38;5;28mself\u001b[39m\u001b[38;5;241m.\u001b[39mservice \u001b[38;5;241m=\u001b[39m service\n\u001b[1;32m---> 49\u001b[0m \u001b[38;5;28mself\u001b[39m\u001b[38;5;241m.\u001b[39mservice\u001b[38;5;241m.\u001b[39mpath \u001b[38;5;241m=\u001b[39m DriverFinder\u001b[38;5;241m.\u001b[39mget_path(\u001b[38;5;28mself\u001b[39m\u001b[38;5;241m.\u001b[39mservice, options)\n\u001b[0;32m     50\u001b[0m \u001b[38;5;28mself\u001b[39m\u001b[38;5;241m.\u001b[39mservice\u001b[38;5;241m.\u001b[39mstart()\n\u001b[0;32m     52\u001b[0m executor \u001b[38;5;241m=\u001b[39m ChromiumRemoteConnection(\n\u001b[0;32m     53\u001b[0m     remote_server_addr\u001b[38;5;241m=\u001b[39m\u001b[38;5;28mself\u001b[39m\u001b[38;5;241m.\u001b[39mservice\u001b[38;5;241m.\u001b[39mservice_url,\n\u001b[0;32m     54\u001b[0m     browser_name\u001b[38;5;241m=\u001b[39mbrowser_name,\n\u001b[1;32m   (...)\u001b[0m\n\u001b[0;32m     57\u001b[0m     ignore_proxy\u001b[38;5;241m=\u001b[39moptions\u001b[38;5;241m.\u001b[39m_ignore_local_proxy,\n\u001b[0;32m     58\u001b[0m )\n",
      "File \u001b[1;32m~\\AppData\\Roaming\\Python\\Python311\\site-packages\\selenium\\webdriver\\common\\driver_finder.py:40\u001b[0m, in \u001b[0;36mDriverFinder.get_path\u001b[1;34m(service, options)\u001b[0m\n\u001b[0;32m     38\u001b[0m     path \u001b[38;5;241m=\u001b[39m SeleniumManager()\u001b[38;5;241m.\u001b[39mdriver_location(options) \u001b[38;5;28;01mif\u001b[39;00m path \u001b[38;5;129;01mis\u001b[39;00m \u001b[38;5;28;01mNone\u001b[39;00m \u001b[38;5;28;01melse\u001b[39;00m path\n\u001b[0;32m     39\u001b[0m \u001b[38;5;28;01mexcept\u001b[39;00m \u001b[38;5;167;01mException\u001b[39;00m \u001b[38;5;28;01mas\u001b[39;00m err:\n\u001b[1;32m---> 40\u001b[0m     msg \u001b[38;5;241m=\u001b[39m \u001b[38;5;124mf\u001b[39m\u001b[38;5;124m\"\u001b[39m\u001b[38;5;124mUnable to obtain driver for \u001b[39m\u001b[38;5;132;01m{\u001b[39;00moptions\u001b[38;5;241m.\u001b[39mcapabilities[\u001b[38;5;124m'\u001b[39m\u001b[38;5;124mbrowserName\u001b[39m\u001b[38;5;124m'\u001b[39m]\u001b[38;5;132;01m}\u001b[39;00m\u001b[38;5;124m using Selenium Manager.\u001b[39m\u001b[38;5;124m\"\u001b[39m\n\u001b[0;32m     41\u001b[0m     \u001b[38;5;28;01mraise\u001b[39;00m NoSuchDriverException(msg) \u001b[38;5;28;01mfrom\u001b[39;00m \u001b[38;5;21;01merr\u001b[39;00m\n\u001b[0;32m     43\u001b[0m \u001b[38;5;28;01mif\u001b[39;00m path \u001b[38;5;129;01mis\u001b[39;00m \u001b[38;5;28;01mNone\u001b[39;00m \u001b[38;5;129;01mor\u001b[39;00m \u001b[38;5;129;01mnot\u001b[39;00m Path(path)\u001b[38;5;241m.\u001b[39mis_file():\n",
      "\u001b[1;31mAttributeError\u001b[0m: 'str' object has no attribute 'capabilities'"
     ]
    }
   ],
   "source": [
    "from selenium import webdriver\n",
    "from selenium.webdriver.common.keys import Keys\n",
    "import time\n",
    "\n",
    "# Function to scrape details from Website 1\n",
    "def scrape_website1():\n",
    "    driver = webdriver.Chrome(\"C:\\\\Users\\\\saray\\\\OneDrive\\\\Desktop\\\\chromedriver-win64\\\\chromedriver.exe\")  # You can use other browsers by changing this line\n",
    "    driver.get(\"https://www.amazon.in/Samsung-Galaxy-Smartphone-Titanium-Storage/dp/B0CQYGF1QY/ref=sr_1_1_sspa?dib=eyJ2IjoiMSJ9.Cvb5oQzTTBkyPpPhqlOvz7EOkchHQvkaDbo4APYoTqkyCkDMU0P0AGISBFc0w5QMLvahQc-e4W1EpHPQKrJKT0tnC9eKDwaIKs1yhz1h2QxFeCc7nsqdW_AXyDl6IfEsEaYNCiZMIZGUcZwg69dQmtK51d1ey6bB_1o9O03mfTo0kjyYaSiQT9W1I6d-HqJ0Ep1FfSunwYGWTtKbkF6l6WZR81yNXsJgStRW5EYuiV-p0TlKINP8URLKYjS2D9v1qduBlWWEKcIrrEqTnt5HAooc8vB14NbkFpj_bqvXESU.v7TOLXxZ5L8j24iavxyH9Lr4vZ19xm1r44KhvJ4i9K4&dib_tag=se&keywords=samsung%2Bfold&qid=1708522603&s=electronics&sr=1-1-spons&sp_csd=d2lkZ2V0TmFtZT1zcF9hdGY&th=1\")\n",
    "\n",
    "    # Add your scraping logic for Website 1\n",
    "    # For example:\n",
    "    element = driver.find_element(By.CLASS_NAME,\"a-size-large product-title-word-break\")\n",
    "    data_from_website1 = element.text\n",
    "\n",
    "    driver.quit()\n",
    "    return data_from_website1\n",
    "\n",
    "# Function to scrape details from Website 2\n",
    "def scrape_website2():\n",
    "    driver = webdriver.Chrome(\"C:\\\\Users\\\\saray\\\\OneDrive\\\\Desktop\\\\chromedriver-win64\\\\chromedriver.exe\")  # You can use other browsers by changing this line\n",
    "    driver.get(\"https://www.flipkart.com/samsung-galaxy-z-fold5-cream-256-gb/p/itm5e9a1e2b0b9d9?pid=MOBGRS32ZCAVYQ7V&lid=LSTMOBGRS32ZCAVYQ7VEMYE2L&marketplace=FLIPKART&q=samsung%20fold&sattr[]=color&sattr[]=storage&st=color&otracker=search \")\n",
    "\n",
    "    # Add your scraping logic for Website 2\n",
    "    # For example:\n",
    "    element = driver.find_element(By.CLASS_NAME,\"B_NuCI\")\n",
    "    data_from_website2 = element.text\n",
    "\n",
    "    driver.quit()\n",
    "    return data_from_website2\n",
    "\n",
    "if __name__ == \"__main__\":\n",
    "    data1 = scrape_website1()\n",
    "    data2 = scrape_website2()\n",
    "\n",
    "    # Process or save the scraped data as needed\n",
    "    print(\"Data from Website 1:\", data1)\n",
    "    print(\"Data from Website 2:\", data2)\n"
   ]
  },
  {
   "cell_type": "code",
   "execution_count": null,
   "id": "19e51a70",
   "metadata": {},
   "outputs": [],
   "source": []
  }
 ],
 "metadata": {
  "kernelspec": {
   "display_name": "Python 3 (ipykernel)",
   "language": "python",
   "name": "python3"
  },
  "language_info": {
   "codemirror_mode": {
    "name": "ipython",
    "version": 3
   },
   "file_extension": ".py",
   "mimetype": "text/x-python",
   "name": "python",
   "nbconvert_exporter": "python",
   "pygments_lexer": "ipython3",
   "version": "3.11.5"
  }
 },
 "nbformat": 4,
 "nbformat_minor": 5
}
