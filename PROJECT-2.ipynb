{
 "cells": [
  {
   "cell_type": "code",
   "execution_count": null,
   "id": "aa166cf6",
   "metadata": {},
   "outputs": [],
   "source": [
    "#PROJECT ON SELENIUM "
   ]
  },
  {
   "cell_type": "code",
   "execution_count": null,
   "id": "ee8a5664",
   "metadata": {},
   "outputs": [],
   "source": [
    "#ACCESS PRICES OF MOBILE FROM TWO WEBSITES AND COMPARE IT"
   ]
  },
  {
   "cell_type": "code",
   "execution_count": 32,
   "id": "6603cbca",
   "metadata": {},
   "outputs": [
    {
     "name": "stdout",
     "output_type": "stream",
     "text": [
      "Defaulting to user installation because normal site-packages is not writeableNote: you may need to restart the kernel to use updated packages.\n",
      "\n",
      "Requirement already satisfied: selenium in c:\\users\\saray\\appdata\\roaming\\python\\python311\\site-packages (4.18.1)\n",
      "Requirement already satisfied: urllib3[socks]<3,>=1.26 in c:\\programdata\\anaconda3\\lib\\site-packages (from selenium) (1.26.16)\n",
      "Requirement already satisfied: trio~=0.17 in c:\\users\\saray\\appdata\\roaming\\python\\python311\\site-packages (from selenium) (0.24.0)\n",
      "Requirement already satisfied: trio-websocket~=0.9 in c:\\users\\saray\\appdata\\roaming\\python\\python311\\site-packages (from selenium) (0.11.1)\n",
      "Requirement already satisfied: certifi>=2021.10.8 in c:\\programdata\\anaconda3\\lib\\site-packages (from selenium) (2023.7.22)\n",
      "Requirement already satisfied: typing_extensions>=4.9.0 in c:\\users\\saray\\appdata\\roaming\\python\\python311\\site-packages (from selenium) (4.9.0)\n",
      "Requirement already satisfied: attrs>=20.1.0 in c:\\programdata\\anaconda3\\lib\\site-packages (from trio~=0.17->selenium) (22.1.0)\n",
      "Requirement already satisfied: sortedcontainers in c:\\programdata\\anaconda3\\lib\\site-packages (from trio~=0.17->selenium) (2.4.0)\n",
      "Requirement already satisfied: idna in c:\\programdata\\anaconda3\\lib\\site-packages (from trio~=0.17->selenium) (3.4)\n",
      "Requirement already satisfied: outcome in c:\\users\\saray\\appdata\\roaming\\python\\python311\\site-packages (from trio~=0.17->selenium) (1.3.0.post0)\n",
      "Requirement already satisfied: sniffio>=1.3.0 in c:\\users\\saray\\appdata\\roaming\\python\\python311\\site-packages (from trio~=0.17->selenium) (1.3.0)\n",
      "Requirement already satisfied: cffi>=1.14 in c:\\programdata\\anaconda3\\lib\\site-packages (from trio~=0.17->selenium) (1.15.1)\n",
      "Requirement already satisfied: wsproto>=0.14 in c:\\users\\saray\\appdata\\roaming\\python\\python311\\site-packages (from trio-websocket~=0.9->selenium) (1.2.0)\n",
      "Requirement already satisfied: PySocks!=1.5.7,<2.0,>=1.5.6 in c:\\programdata\\anaconda3\\lib\\site-packages (from urllib3[socks]<3,>=1.26->selenium) (1.7.1)\n",
      "Requirement already satisfied: pycparser in c:\\programdata\\anaconda3\\lib\\site-packages (from cffi>=1.14->trio~=0.17->selenium) (2.21)\n",
      "Requirement already satisfied: h11<1,>=0.9.0 in c:\\users\\saray\\appdata\\roaming\\python\\python311\\site-packages (from wsproto>=0.14->trio-websocket~=0.9->selenium) (0.14.0)\n"
     ]
    }
   ],
   "source": [
    "pip install selenium"
   ]
  },
  {
   "cell_type": "code",
   "execution_count": 33,
   "id": "3eb63653",
   "metadata": {},
   "outputs": [
    {
     "name": "stdout",
     "output_type": "stream",
     "text": [
      "Defaulting to user installation because normal site-packages is not writeable\n",
      "Requirement already satisfied: urllib3==1.26.16 in c:\\programdata\\anaconda3\\lib\\site-packages (1.26.16)\n",
      "Note: you may need to restart the kernel to use updated packages.\n"
     ]
    }
   ],
   "source": [
    "pip install --upgrade urllib3==1.26.16"
   ]
  },
  {
   "cell_type": "code",
   "execution_count": 34,
   "id": "140d9680",
   "metadata": {},
   "outputs": [],
   "source": [
    "from selenium import webdriver\n",
    "from selenium.webdriver.chrome.service import Service\n",
    "from selenium.webdriver.common.by import By\n",
    "s = Service(r\"C:\\Users\\saray\\OneDrive\\Desktop\\chromedriver-win64\\chromedriver.exe\")\n",
    "webD = webdriver.Chrome(service=s)\n",
    "webD.get(\"https://www.amazon.in/Samsung-Galaxy-Smartphone-Titanium-Storage/dp/B0CQYGF1QY/ref=sr_1_1_sspa?dib=eyJ2IjoiMSJ9.Cvb5oQzTTBkyPpPhqlOvz7EOkchHQvkaDbo4APYoTqkyCkDMU0P0AGISBFc0w5QMLvahQc-e4W1EpHPQKrJKT0tnC9eKDwaIKs1yhz1h2QxFeCc7nsqdW_AXyDl6IfEsEaYNCiZMIZGUcZwg69dQmtK51d1ey6bB_1o9O03mfTo0kjyYaSiQT9W1I6d-HqJ0Ep1FfSunwYGWTtKbkF6l6WZR81yNXsJgStRW5EYuiV-p0TlKINP8URLKYjS2D9v1qduBlWWEKcIrrEqTnt5HAooc8vB14NbkFpj_bqvXESU.v7TOLXxZ5L8j24iavxyH9Lr4vZ19xm1r44KhvJ4i9K4&dib_tag=se&keywords=samsung%2Bfold&qid=1708522603&s=electronics&sr=1-1-spons&sp_csd=d2lkZ2V0TmFtZT1zcF9hdGY&th=1 \")"
   ]
  },
  {
   "cell_type": "code",
   "execution_count": 35,
   "id": "39b650e1",
   "metadata": {},
   "outputs": [],
   "source": [
    "ele=webD.find_element(By.CLASS_NAME,'a-price-whole')"
   ]
  },
  {
   "cell_type": "code",
   "execution_count": 36,
   "id": "7bd867a8",
   "metadata": {},
   "outputs": [
    {
     "name": "stdout",
     "output_type": "stream",
     "text": [
      "<selenium.webdriver.remote.webelement.WebElement (session=\"7c8b364c85eeda4a202709d052098e42\", element=\"f.B72D0E7DFC5F5758C03830482665D568.d.AA0CA2B0B88E712F90ED4C78272E5751.e.13975\")>\n"
     ]
    }
   ],
   "source": [
    "print(ele)"
   ]
  },
  {
   "cell_type": "code",
   "execution_count": 38,
   "id": "8ff8f42d",
   "metadata": {},
   "outputs": [
    {
     "name": "stdout",
     "output_type": "stream",
     "text": [
      "<selenium.webdriver.remote.webelement.WebElement (session=\"7c8b364c85eeda4a202709d052098e42\", element=\"f.B72D0E7DFC5F5758C03830482665D568.d.AA0CA2B0B88E712F90ED4C78272E5751.e.19693\")>\n"
     ]
    }
   ],
   "source": [
    "l='/html/body/div[2]/div/div[5]/div[3]/div[4]/div[13]/div/div/div[4]/div[1]/span[3]/span[2]/span[2]'\n",
    "s=webD.find_element(By.XPATH,l)\n",
    "print(s)"
   ]
  },
  {
   "cell_type": "code",
   "execution_count": 39,
   "id": "766032f4",
   "metadata": {},
   "outputs": [
    {
     "name": "stdout",
     "output_type": "stream",
     "text": [
      "1,34,899\n"
     ]
    }
   ],
   "source": [
    "x=s.text\n",
    "print(x)"
   ]
  },
  {
   "cell_type": "code",
   "execution_count": 40,
   "id": "bb9f61a4",
   "metadata": {},
   "outputs": [],
   "source": [
    "from selenium import webdriver\n",
    "from selenium.webdriver.chrome.service import Service\n",
    "from selenium.webdriver.common.by import By\n",
    "s = Service(r\"C:\\Users\\saray\\OneDrive\\Desktop\\chromedriver-win64\\chromedriver.exe\")\n",
    "webD = webdriver.Chrome(service=s)\n",
    "webD.get(\"https://www.flipkart.com/samsung-galaxy-z-fold5-cream-256-gb/p/itm5e9a1e2b0b9d9?pid=MOBGRS32ZCAVYQ7V&lid=LSTMOBGRS32ZCAVYQ7VEMYE2L&marketplace=FLIPKART&q=samsung%20fold&sattr[]=color&sattr[]=storage&st=color&otracker=search\")"
   ]
  },
  {
   "cell_type": "code",
   "execution_count": 41,
   "id": "1fa368b6",
   "metadata": {},
   "outputs": [],
   "source": [
    "z='/html/body/div[1]/div/div[3]/div[1]/div[2]/div[2]/div/div[4]/div[1]/div/div[1]'\n",
    "p=webD.find_element(By.XPATH,z)"
   ]
  },
  {
   "cell_type": "code",
   "execution_count": 42,
   "id": "ea5e6e11",
   "metadata": {},
   "outputs": [
    {
     "name": "stdout",
     "output_type": "stream",
     "text": [
      "₹1,54,999\n"
     ]
    }
   ],
   "source": [
    "y=(p.text)\n",
    "print(y)"
   ]
  },
  {
   "cell_type": "code",
   "execution_count": 43,
   "id": "f5560c18",
   "metadata": {},
   "outputs": [
    {
     "name": "stdout",
     "output_type": "stream",
     "text": [
      "price in flipkart is more than price in amazon\n"
     ]
    }
   ],
   "source": [
    "if(x>y):\n",
    "    print('price in amazon is more than price in flipkart')\n",
    "else:\n",
    "    print('price in flipkart is more than price in amazon')"
   ]
  },
  {
   "cell_type": "code",
   "execution_count": null,
   "id": "6e6c61ed",
   "metadata": {},
   "outputs": [],
   "source": []
  }
 ],
 "metadata": {
  "kernelspec": {
   "display_name": "Python 3 (ipykernel)",
   "language": "python",
   "name": "python3"
  },
  "language_info": {
   "codemirror_mode": {
    "name": "ipython",
    "version": 3
   },
   "file_extension": ".py",
   "mimetype": "text/x-python",
   "name": "python",
   "nbconvert_exporter": "python",
   "pygments_lexer": "ipython3",
   "version": "3.11.5"
  }
 },
 "nbformat": 4,
 "nbformat_minor": 5
}
